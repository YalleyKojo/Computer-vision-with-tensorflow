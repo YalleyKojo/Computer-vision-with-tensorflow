{
 "cells": [
  {
   "cell_type": "markdown",
   "metadata": {},
   "source": [
    "# Tensorflow basics for deep learning\n",
    "## topics covered\n",
    "* Initializing and casting\n",
    "* Indexing\n",
    "* Maths Operations\n",
    "* Linear Algebra Operations\n",
    "* Common tensorflow functions\n",
    "* Ragged tenosrs\n",
    "* Sparse Tensors\n",
    "* String Tensors \n",
    "* Variables"
   ]
  },
  {
   "cell_type": "code",
   "execution_count": 1,
   "metadata": {},
   "outputs": [],
   "source": [
    "import tensorflow as tf\n"
   ]
  },
  {
   "cell_type": "markdown",
   "metadata": {},
   "source": [
    "### Creating tensors"
   ]
  },
  {
   "cell_type": "code",
   "execution_count": 2,
   "metadata": {},
   "outputs": [
    {
     "data": {
      "text/plain": [
       "3"
      ]
     },
     "execution_count": 2,
     "metadata": {},
     "output_type": "execute_result"
    }
   ],
   "source": [
    "# creating a zero_d tensor\n",
    "\n",
    "tensor_zero_d =tf.constant(6)\n",
    "\n",
    "#creating a one dimensional tensor\n",
    "\n",
    "tensor_one_d=tf.constant([2,4,6])\n",
    "\n",
    "#creating a 2d tensor\n",
    "\n",
    "tensor_two_d=tf.constant([\n",
    "    [1,2,4],\n",
    "    [4,5,6],\n",
    "    [7,8,9]\n",
    "])\n",
    "# creating a three d tensor\n",
    "tensor_three_d=tf.constant([\n",
    "    [[1,3,4],\n",
    "     [1,4,2]]\n",
    "    \n",
    "])\n",
    "# creating a four d tensor\n",
    "tensor_three_d.ndim\n"
   ]
  },
  {
   "cell_type": "markdown",
   "metadata": {},
   "source": [
    "#### casting tensors"
   ]
  },
  {
   "cell_type": "code",
   "execution_count": 3,
   "metadata": {},
   "outputs": [
    {
     "data": {
      "text/plain": [
       "<tf.Tensor: shape=(3,), dtype=int16, numpy=array([2, 4, 6], dtype=int16)>"
      ]
     },
     "execution_count": 3,
     "metadata": {},
     "output_type": "execute_result"
    }
   ],
   "source": [
    "casted_tensor_one_d=tf.cast(tensor_one_d,dtype=tf.int16)\n",
    "casted_tensor_one_d"
   ]
  },
  {
   "cell_type": "markdown",
   "metadata": {},
   "source": [
    "#### fill method used to create tensors"
   ]
  },
  {
   "cell_type": "code",
   "execution_count": 4,
   "metadata": {},
   "outputs": [
    {
     "data": {
      "text/plain": [
       "<tf.Tensor: shape=(3, 2, 2), dtype=int32, numpy=\n",
       "array([[[1, 1],\n",
       "        [1, 1]],\n",
       "\n",
       "       [[1, 1],\n",
       "        [1, 1]],\n",
       "\n",
       "       [[1, 1],\n",
       "        [1, 1]]])>"
      ]
     },
     "execution_count": 4,
     "metadata": {},
     "output_type": "execute_result"
    }
   ],
   "source": [
    "# creates a tensor and fill it with a scalar value.first argument takes the shape of the tensor\n",
    "# the second argument takes the scalar value that will poputlate the tensor\n",
    "# tf.ones(shape) similar to tf.fill but rather fills the tensor with the scalar value '1'\n",
    "fill_tensor=tf.fill([3,2,2],9,name=None)\n",
    "\n",
    "#tf.ones_like() gives a tensor of similar shape to the input tensor but fills it with ones\n",
    "fill_tensor_ones=tf.ones_like(fill_tensor)\n",
    "fill_tensor_ones"
   ]
  },
  {
   "cell_type": "markdown",
   "metadata": {},
   "source": [
    "#### creating random tensors"
   ]
  },
  {
   "cell_type": "code",
   "execution_count": 5,
   "metadata": {},
   "outputs": [
    {
     "data": {
      "text/plain": [
       "<tf.Tensor: shape=(3, 2, 2), dtype=int32, numpy=\n",
       "array([[[ 8, 19],\n",
       "        [17, 19]],\n",
       "\n",
       "       [[ 9, 11],\n",
       "        [39,  6]],\n",
       "\n",
       "       [[34, 39],\n",
       "        [21, 27]]])>"
      ]
     },
     "execution_count": 5,
     "metadata": {},
     "output_type": "execute_result"
    }
   ],
   "source": [
    "#tf.random.normal -creates a random tensor based off of normal distribution\n",
    "# tf.random.unifrom - creates a  random tensor based off of uniform distribution\n",
    "\n",
    "random_normal=tf.random.normal([4,2],\n",
    "                               mean=0.0,\n",
    "                               stddev=1.0,\n",
    "                               dtype=tf.float32,\n",
    "                               seed=42,\n",
    "                               name=None)\n",
    "\n",
    "random_uniform=tf.random.uniform(\n",
    "    [3,2,2],\n",
    "    minval=5,\n",
    "    maxval=40,\n",
    "    dtype=tf.int32,\n",
    "    name=None\n",
    ")\n",
    "random_uniform"
   ]
  },
  {
   "cell_type": "markdown",
   "metadata": {},
   "source": [
    "#### indexing\n"
   ]
  },
  {
   "cell_type": "code",
   "execution_count": 6,
   "metadata": {},
   "outputs": [
    {
     "data": {
      "text/plain": [
       "<tf.Tensor: shape=(2,), dtype=int32, numpy=array([ 9, 11])>"
      ]
     },
     "execution_count": 6,
     "metadata": {},
     "output_type": "execute_result"
    }
   ],
   "source": [
    "#getting the first column from random_uniform\n",
    "\n",
    "ru1=random_uniform[:,:,0]\n",
    "\n",
    "# fetch the first column of the last element\n",
    "rulast=random_uniform[2,:,0]\n",
    "rulast\n",
    "\n",
    "# get the first column of the second element\n",
    "col2=random_uniform[1,0,:]\n",
    "col2\n"
   ]
  },
  {
   "cell_type": "markdown",
   "metadata": {},
   "source": [
    "# Squeezing and unsqueezing tensor dimensions in tensorflow"
   ]
  },
  {
   "cell_type": "code",
   "execution_count": 7,
   "metadata": {},
   "outputs": [
    {
     "name": "stdout",
     "output_type": "stream",
     "text": [
      "(3, 2, 2)\n",
      "(1, 3, 2, 2) tf.Tensor(4, shape=(), dtype=int32)\n"
     ]
    },
    {
     "data": {
      "text/plain": [
       "(<tf.Tensor: shape=(), dtype=int32, numpy=3>, TensorShape([3, 2, 2]))"
      ]
     },
     "execution_count": 7,
     "metadata": {},
     "output_type": "execute_result"
    }
   ],
   "source": [
    "# unsqueezing the dimension of random_uniform\n",
    "\n",
    "random_uniform_squeeze=tf.squeeze(random_uniform)\n",
    "print(random_uniform_squeeze.shape)\n",
    "\n",
    "# unsqueezing random_uniform\n",
    "random_uniform4d=tf.expand_dims(random_uniform,axis=0)\n",
    "print(random_uniform4d.shape,tf.rank(random_uniform4d))\n",
    "\n",
    "#squeezing added dimension\n",
    "random_uniform4d_squeeze=tf.squeeze(random_uniform4d,axis=0)\n",
    "tf.rank(random_uniform_squeeze),random_uniform_squeeze.shape"
   ]
  }
 ],
 "metadata": {
  "kernelspec": {
   "display_name": "base",
   "language": "python",
   "name": "python3"
  },
  "language_info": {
   "codemirror_mode": {
    "name": "ipython",
    "version": 3
   },
   "file_extension": ".py",
   "mimetype": "text/x-python",
   "name": "python",
   "nbconvert_exporter": "python",
   "pygments_lexer": "ipython3",
   "version": "3.10.9"
  },
  "orig_nbformat": 4
 },
 "nbformat": 4,
 "nbformat_minor": 2
}
