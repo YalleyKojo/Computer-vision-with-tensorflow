{
 "cells": [
  {
   "cell_type": "markdown",
   "metadata": {},
   "source": [
    "# Tensorflow basics for deep learning\n",
    "## topics covered\n",
    "* Initializing and casting\n",
    "* Indexing\n",
    "* Maths Operations\n",
    "* Linear Algebra Operations\n",
    "* Common tensorflow functions\n",
    "* Ragged tenosrs\n",
    "* Sparse Tensors\n",
    "* String Tensors \n",
    "* Variables"
   ]
  },
  {
   "cell_type": "code",
   "execution_count": 1,
   "metadata": {},
   "outputs": [],
   "source": [
    "import tensorflow as tf\n"
   ]
  },
  {
   "cell_type": "markdown",
   "metadata": {},
   "source": [
    "### Creating tensors"
   ]
  },
  {
   "cell_type": "code",
   "execution_count": 7,
   "metadata": {},
   "outputs": [
    {
     "data": {
      "text/plain": [
       "<tf.Tensor: shape=(3, 3), dtype=int32, numpy=\n",
       "array([[1, 2, 4],\n",
       "       [4, 5, 6],\n",
       "       [7, 8, 9]])>"
      ]
     },
     "execution_count": 7,
     "metadata": {},
     "output_type": "execute_result"
    }
   ],
   "source": [
    "# creating a zero_d tensor\n",
    "\n",
    "tensor_zero_d =tf.constant(6)\n",
    "\n",
    "#creating a one dimensional tensor\n",
    "\n",
    "tensor_one_d=tf.constant([2,4,6])\n",
    "\n",
    "#creating a 2d tensor\n",
    "\n",
    "tensor_two_d=tf.constant([\n",
    "    [1,2,4],\n",
    "    [4,5,6],\n",
    "    [7,8,9]\n",
    "])\n",
    "tensor_two_d"
   ]
  }
 ],
 "metadata": {
  "kernelspec": {
   "display_name": "base",
   "language": "python",
   "name": "python3"
  },
  "language_info": {
   "codemirror_mode": {
    "name": "ipython",
    "version": 3
   },
   "file_extension": ".py",
   "mimetype": "text/x-python",
   "name": "python",
   "nbconvert_exporter": "python",
   "pygments_lexer": "ipython3",
   "version": "3.10.9"
  },
  "orig_nbformat": 4
 },
 "nbformat": 4,
 "nbformat_minor": 2
}
